{
 "cells": [
  {
   "cell_type": "code",
   "execution_count": 18,
   "metadata": {},
   "outputs": [
    {
     "name": "stdout",
     "output_type": "stream",
     "text": [
      "{\"data\": {\"url\": \"https://raw.githubusercontent.com/ln18323/ln18323.github.io/main/DS%20Project%20Data%20Folder/2011-2020%20Detailed%20by%20States%20and%20Year/DSP_detailed_The United States.json\",\"format\": {\"type\":\"json\"}},\"transform\": [{\"filter\": \"datum.year==yearselected\"}],\"mark\":{\"type\": \"circle\", \"size\": 100}},\n",
      "{\"data\": {\"url\": \"https://raw.githubusercontent.com/ln18323/ln18323.github.io/main/DS%20Project%20Data%20Folder/2011-2020%20Detailed%20by%20States%20and%20Year/DSP_detailed_Alabama.json\",\"format\": {\"type\":\"json\"}},\"transform\": [{\"filter\": \"datum.year==yearselected\"}],\"mark\":{\"type\": \"circle\", \"size\": 100}},\n",
      "{\"data\": {\"url\": \"https://raw.githubusercontent.com/ln18323/ln18323.github.io/main/DS%20Project%20Data%20Folder/2011-2020%20Detailed%20by%20States%20and%20Year/DSP_detailed_Alaska.json\",\"format\": {\"type\":\"json\"}},\"transform\": [{\"filter\": \"datum.year==yearselected\"}],\"mark\":{\"type\": \"circle\", \"size\": 100}},\n",
      "{\"data\": {\"url\": \"https://raw.githubusercontent.com/ln18323/ln18323.github.io/main/DS%20Project%20Data%20Folder/2011-2020%20Detailed%20by%20States%20and%20Year/DSP_detailed_Arizona.json\",\"format\": {\"type\":\"json\"}},\"transform\": [{\"filter\": \"datum.year==yearselected\"}],\"mark\":{\"type\": \"circle\", \"size\": 100}},\n",
      "{\"data\": {\"url\": \"https://raw.githubusercontent.com/ln18323/ln18323.github.io/main/DS%20Project%20Data%20Folder/2011-2020%20Detailed%20by%20States%20and%20Year/DSP_detailed_Arkansas.json\",\"format\": {\"type\":\"json\"}},\"transform\": [{\"filter\": \"datum.year==yearselected\"}],\"mark\":{\"type\": \"circle\", \"size\": 100}},\n",
      "{\"data\": {\"url\": \"https://raw.githubusercontent.com/ln18323/ln18323.github.io/main/DS%20Project%20Data%20Folder/2011-2020%20Detailed%20by%20States%20and%20Year/DSP_detailed_California.json\",\"format\": {\"type\":\"json\"}},\"transform\": [{\"filter\": \"datum.year==yearselected\"}],\"mark\":{\"type\": \"circle\", \"size\": 100}},\n",
      "{\"data\": {\"url\": \"https://raw.githubusercontent.com/ln18323/ln18323.github.io/main/DS%20Project%20Data%20Folder/2011-2020%20Detailed%20by%20States%20and%20Year/DSP_detailed_Colorado.json\",\"format\": {\"type\":\"json\"}},\"transform\": [{\"filter\": \"datum.year==yearselected\"}],\"mark\":{\"type\": \"circle\", \"size\": 100}},\n",
      "{\"data\": {\"url\": \"https://raw.githubusercontent.com/ln18323/ln18323.github.io/main/DS%20Project%20Data%20Folder/2011-2020%20Detailed%20by%20States%20and%20Year/DSP_detailed_Connecticut.json\",\"format\": {\"type\":\"json\"}},\"transform\": [{\"filter\": \"datum.year==yearselected\"}],\"mark\":{\"type\": \"circle\", \"size\": 100}},\n",
      "{\"data\": {\"url\": \"https://raw.githubusercontent.com/ln18323/ln18323.github.io/main/DS%20Project%20Data%20Folder/2011-2020%20Detailed%20by%20States%20and%20Year/DSP_detailed_Delaware.json\",\"format\": {\"type\":\"json\"}},\"transform\": [{\"filter\": \"datum.year==yearselected\"}],\"mark\":{\"type\": \"circle\", \"size\": 100}},\n",
      "{\"data\": {\"url\": \"https://raw.githubusercontent.com/ln18323/ln18323.github.io/main/DS%20Project%20Data%20Folder/2011-2020%20Detailed%20by%20States%20and%20Year/DSP_detailed_District of Columbia.json\",\"format\": {\"type\":\"json\"}},\"transform\": [{\"filter\": \"datum.year==yearselected\"}],\"mark\":{\"type\": \"circle\", \"size\": 100}},\n",
      "{\"data\": {\"url\": \"https://raw.githubusercontent.com/ln18323/ln18323.github.io/main/DS%20Project%20Data%20Folder/2011-2020%20Detailed%20by%20States%20and%20Year/DSP_detailed_Florida.json\",\"format\": {\"type\":\"json\"}},\"transform\": [{\"filter\": \"datum.year==yearselected\"}],\"mark\":{\"type\": \"circle\", \"size\": 100}},\n",
      "{\"data\": {\"url\": \"https://raw.githubusercontent.com/ln18323/ln18323.github.io/main/DS%20Project%20Data%20Folder/2011-2020%20Detailed%20by%20States%20and%20Year/DSP_detailed_Georgia.json\",\"format\": {\"type\":\"json\"}},\"transform\": [{\"filter\": \"datum.year==yearselected\"}],\"mark\":{\"type\": \"circle\", \"size\": 100}},\n",
      "{\"data\": {\"url\": \"https://raw.githubusercontent.com/ln18323/ln18323.github.io/main/DS%20Project%20Data%20Folder/2011-2020%20Detailed%20by%20States%20and%20Year/DSP_detailed_Hawaii.json\",\"format\": {\"type\":\"json\"}},\"transform\": [{\"filter\": \"datum.year==yearselected\"}],\"mark\":{\"type\": \"circle\", \"size\": 100}},\n",
      "{\"data\": {\"url\": \"https://raw.githubusercontent.com/ln18323/ln18323.github.io/main/DS%20Project%20Data%20Folder/2011-2020%20Detailed%20by%20States%20and%20Year/DSP_detailed_Idaho.json\",\"format\": {\"type\":\"json\"}},\"transform\": [{\"filter\": \"datum.year==yearselected\"}],\"mark\":{\"type\": \"circle\", \"size\": 100}},\n",
      "{\"data\": {\"url\": \"https://raw.githubusercontent.com/ln18323/ln18323.github.io/main/DS%20Project%20Data%20Folder/2011-2020%20Detailed%20by%20States%20and%20Year/DSP_detailed_Illinois.json\",\"format\": {\"type\":\"json\"}},\"transform\": [{\"filter\": \"datum.year==yearselected\"}],\"mark\":{\"type\": \"circle\", \"size\": 100}},\n",
      "{\"data\": {\"url\": \"https://raw.githubusercontent.com/ln18323/ln18323.github.io/main/DS%20Project%20Data%20Folder/2011-2020%20Detailed%20by%20States%20and%20Year/DSP_detailed_Indiana.json\",\"format\": {\"type\":\"json\"}},\"transform\": [{\"filter\": \"datum.year==yearselected\"}],\"mark\":{\"type\": \"circle\", \"size\": 100}},\n",
      "{\"data\": {\"url\": \"https://raw.githubusercontent.com/ln18323/ln18323.github.io/main/DS%20Project%20Data%20Folder/2011-2020%20Detailed%20by%20States%20and%20Year/DSP_detailed_Iowa.json\",\"format\": {\"type\":\"json\"}},\"transform\": [{\"filter\": \"datum.year==yearselected\"}],\"mark\":{\"type\": \"circle\", \"size\": 100}},\n",
      "{\"data\": {\"url\": \"https://raw.githubusercontent.com/ln18323/ln18323.github.io/main/DS%20Project%20Data%20Folder/2011-2020%20Detailed%20by%20States%20and%20Year/DSP_detailed_Kansas.json\",\"format\": {\"type\":\"json\"}},\"transform\": [{\"filter\": \"datum.year==yearselected\"}],\"mark\":{\"type\": \"circle\", \"size\": 100}},\n",
      "{\"data\": {\"url\": \"https://raw.githubusercontent.com/ln18323/ln18323.github.io/main/DS%20Project%20Data%20Folder/2011-2020%20Detailed%20by%20States%20and%20Year/DSP_detailed_Kentucky.json\",\"format\": {\"type\":\"json\"}},\"transform\": [{\"filter\": \"datum.year==yearselected\"}],\"mark\":{\"type\": \"circle\", \"size\": 100}},\n",
      "{\"data\": {\"url\": \"https://raw.githubusercontent.com/ln18323/ln18323.github.io/main/DS%20Project%20Data%20Folder/2011-2020%20Detailed%20by%20States%20and%20Year/DSP_detailed_Louisiana.json\",\"format\": {\"type\":\"json\"}},\"transform\": [{\"filter\": \"datum.year==yearselected\"}],\"mark\":{\"type\": \"circle\", \"size\": 100}},\n",
      "{\"data\": {\"url\": \"https://raw.githubusercontent.com/ln18323/ln18323.github.io/main/DS%20Project%20Data%20Folder/2011-2020%20Detailed%20by%20States%20and%20Year/DSP_detailed_Maine.json\",\"format\": {\"type\":\"json\"}},\"transform\": [{\"filter\": \"datum.year==yearselected\"}],\"mark\":{\"type\": \"circle\", \"size\": 100}},\n",
      "{\"data\": {\"url\": \"https://raw.githubusercontent.com/ln18323/ln18323.github.io/main/DS%20Project%20Data%20Folder/2011-2020%20Detailed%20by%20States%20and%20Year/DSP_detailed_Maryland.json\",\"format\": {\"type\":\"json\"}},\"transform\": [{\"filter\": \"datum.year==yearselected\"}],\"mark\":{\"type\": \"circle\", \"size\": 100}},\n",
      "{\"data\": {\"url\": \"https://raw.githubusercontent.com/ln18323/ln18323.github.io/main/DS%20Project%20Data%20Folder/2011-2020%20Detailed%20by%20States%20and%20Year/DSP_detailed_Massachusetts.json\",\"format\": {\"type\":\"json\"}},\"transform\": [{\"filter\": \"datum.year==yearselected\"}],\"mark\":{\"type\": \"circle\", \"size\": 100}},\n",
      "{\"data\": {\"url\": \"https://raw.githubusercontent.com/ln18323/ln18323.github.io/main/DS%20Project%20Data%20Folder/2011-2020%20Detailed%20by%20States%20and%20Year/DSP_detailed_Michigan.json\",\"format\": {\"type\":\"json\"}},\"transform\": [{\"filter\": \"datum.year==yearselected\"}],\"mark\":{\"type\": \"circle\", \"size\": 100}},\n",
      "{\"data\": {\"url\": \"https://raw.githubusercontent.com/ln18323/ln18323.github.io/main/DS%20Project%20Data%20Folder/2011-2020%20Detailed%20by%20States%20and%20Year/DSP_detailed_Minnesota.json\",\"format\": {\"type\":\"json\"}},\"transform\": [{\"filter\": \"datum.year==yearselected\"}],\"mark\":{\"type\": \"circle\", \"size\": 100}},\n",
      "{\"data\": {\"url\": \"https://raw.githubusercontent.com/ln18323/ln18323.github.io/main/DS%20Project%20Data%20Folder/2011-2020%20Detailed%20by%20States%20and%20Year/DSP_detailed_Mississippi.json\",\"format\": {\"type\":\"json\"}},\"transform\": [{\"filter\": \"datum.year==yearselected\"}],\"mark\":{\"type\": \"circle\", \"size\": 100}},\n",
      "{\"data\": {\"url\": \"https://raw.githubusercontent.com/ln18323/ln18323.github.io/main/DS%20Project%20Data%20Folder/2011-2020%20Detailed%20by%20States%20and%20Year/DSP_detailed_Missouri.json\",\"format\": {\"type\":\"json\"}},\"transform\": [{\"filter\": \"datum.year==yearselected\"}],\"mark\":{\"type\": \"circle\", \"size\": 100}},\n",
      "{\"data\": {\"url\": \"https://raw.githubusercontent.com/ln18323/ln18323.github.io/main/DS%20Project%20Data%20Folder/2011-2020%20Detailed%20by%20States%20and%20Year/DSP_detailed_Montana.json\",\"format\": {\"type\":\"json\"}},\"transform\": [{\"filter\": \"datum.year==yearselected\"}],\"mark\":{\"type\": \"circle\", \"size\": 100}},\n",
      "{\"data\": {\"url\": \"https://raw.githubusercontent.com/ln18323/ln18323.github.io/main/DS%20Project%20Data%20Folder/2011-2020%20Detailed%20by%20States%20and%20Year/DSP_detailed_Nebraska.json\",\"format\": {\"type\":\"json\"}},\"transform\": [{\"filter\": \"datum.year==yearselected\"}],\"mark\":{\"type\": \"circle\", \"size\": 100}},\n",
      "{\"data\": {\"url\": \"https://raw.githubusercontent.com/ln18323/ln18323.github.io/main/DS%20Project%20Data%20Folder/2011-2020%20Detailed%20by%20States%20and%20Year/DSP_detailed_Nevada.json\",\"format\": {\"type\":\"json\"}},\"transform\": [{\"filter\": \"datum.year==yearselected\"}],\"mark\":{\"type\": \"circle\", \"size\": 100}},\n",
      "{\"data\": {\"url\": \"https://raw.githubusercontent.com/ln18323/ln18323.github.io/main/DS%20Project%20Data%20Folder/2011-2020%20Detailed%20by%20States%20and%20Year/DSP_detailed_New Hampshire.json\",\"format\": {\"type\":\"json\"}},\"transform\": [{\"filter\": \"datum.year==yearselected\"}],\"mark\":{\"type\": \"circle\", \"size\": 100}},\n",
      "{\"data\": {\"url\": \"https://raw.githubusercontent.com/ln18323/ln18323.github.io/main/DS%20Project%20Data%20Folder/2011-2020%20Detailed%20by%20States%20and%20Year/DSP_detailed_New Jersey.json\",\"format\": {\"type\":\"json\"}},\"transform\": [{\"filter\": \"datum.year==yearselected\"}],\"mark\":{\"type\": \"circle\", \"size\": 100}},\n",
      "{\"data\": {\"url\": \"https://raw.githubusercontent.com/ln18323/ln18323.github.io/main/DS%20Project%20Data%20Folder/2011-2020%20Detailed%20by%20States%20and%20Year/DSP_detailed_New Mexico.json\",\"format\": {\"type\":\"json\"}},\"transform\": [{\"filter\": \"datum.year==yearselected\"}],\"mark\":{\"type\": \"circle\", \"size\": 100}},\n",
      "{\"data\": {\"url\": \"https://raw.githubusercontent.com/ln18323/ln18323.github.io/main/DS%20Project%20Data%20Folder/2011-2020%20Detailed%20by%20States%20and%20Year/DSP_detailed_New York.json\",\"format\": {\"type\":\"json\"}},\"transform\": [{\"filter\": \"datum.year==yearselected\"}],\"mark\":{\"type\": \"circle\", \"size\": 100}},\n",
      "{\"data\": {\"url\": \"https://raw.githubusercontent.com/ln18323/ln18323.github.io/main/DS%20Project%20Data%20Folder/2011-2020%20Detailed%20by%20States%20and%20Year/DSP_detailed_North Carolina.json\",\"format\": {\"type\":\"json\"}},\"transform\": [{\"filter\": \"datum.year==yearselected\"}],\"mark\":{\"type\": \"circle\", \"size\": 100}},\n",
      "{\"data\": {\"url\": \"https://raw.githubusercontent.com/ln18323/ln18323.github.io/main/DS%20Project%20Data%20Folder/2011-2020%20Detailed%20by%20States%20and%20Year/DSP_detailed_North Dakota.json\",\"format\": {\"type\":\"json\"}},\"transform\": [{\"filter\": \"datum.year==yearselected\"}],\"mark\":{\"type\": \"circle\", \"size\": 100}},\n",
      "{\"data\": {\"url\": \"https://raw.githubusercontent.com/ln18323/ln18323.github.io/main/DS%20Project%20Data%20Folder/2011-2020%20Detailed%20by%20States%20and%20Year/DSP_detailed_Ohio.json\",\"format\": {\"type\":\"json\"}},\"transform\": [{\"filter\": \"datum.year==yearselected\"}],\"mark\":{\"type\": \"circle\", \"size\": 100}},\n",
      "{\"data\": {\"url\": \"https://raw.githubusercontent.com/ln18323/ln18323.github.io/main/DS%20Project%20Data%20Folder/2011-2020%20Detailed%20by%20States%20and%20Year/DSP_detailed_Oklahoma.json\",\"format\": {\"type\":\"json\"}},\"transform\": [{\"filter\": \"datum.year==yearselected\"}],\"mark\":{\"type\": \"circle\", \"size\": 100}},\n",
      "{\"data\": {\"url\": \"https://raw.githubusercontent.com/ln18323/ln18323.github.io/main/DS%20Project%20Data%20Folder/2011-2020%20Detailed%20by%20States%20and%20Year/DSP_detailed_Oregon.json\",\"format\": {\"type\":\"json\"}},\"transform\": [{\"filter\": \"datum.year==yearselected\"}],\"mark\":{\"type\": \"circle\", \"size\": 100}},\n",
      "{\"data\": {\"url\": \"https://raw.githubusercontent.com/ln18323/ln18323.github.io/main/DS%20Project%20Data%20Folder/2011-2020%20Detailed%20by%20States%20and%20Year/DSP_detailed_Pennsylvania.json\",\"format\": {\"type\":\"json\"}},\"transform\": [{\"filter\": \"datum.year==yearselected\"}],\"mark\":{\"type\": \"circle\", \"size\": 100}},\n",
      "{\"data\": {\"url\": \"https://raw.githubusercontent.com/ln18323/ln18323.github.io/main/DS%20Project%20Data%20Folder/2011-2020%20Detailed%20by%20States%20and%20Year/DSP_detailed_Rhode Island.json\",\"format\": {\"type\":\"json\"}},\"transform\": [{\"filter\": \"datum.year==yearselected\"}],\"mark\":{\"type\": \"circle\", \"size\": 100}},\n",
      "{\"data\": {\"url\": \"https://raw.githubusercontent.com/ln18323/ln18323.github.io/main/DS%20Project%20Data%20Folder/2011-2020%20Detailed%20by%20States%20and%20Year/DSP_detailed_South Carolina.json\",\"format\": {\"type\":\"json\"}},\"transform\": [{\"filter\": \"datum.year==yearselected\"}],\"mark\":{\"type\": \"circle\", \"size\": 100}},\n",
      "{\"data\": {\"url\": \"https://raw.githubusercontent.com/ln18323/ln18323.github.io/main/DS%20Project%20Data%20Folder/2011-2020%20Detailed%20by%20States%20and%20Year/DSP_detailed_South Dakota.json\",\"format\": {\"type\":\"json\"}},\"transform\": [{\"filter\": \"datum.year==yearselected\"}],\"mark\":{\"type\": \"circle\", \"size\": 100}},\n",
      "{\"data\": {\"url\": \"https://raw.githubusercontent.com/ln18323/ln18323.github.io/main/DS%20Project%20Data%20Folder/2011-2020%20Detailed%20by%20States%20and%20Year/DSP_detailed_Tennessee.json\",\"format\": {\"type\":\"json\"}},\"transform\": [{\"filter\": \"datum.year==yearselected\"}],\"mark\":{\"type\": \"circle\", \"size\": 100}},\n",
      "{\"data\": {\"url\": \"https://raw.githubusercontent.com/ln18323/ln18323.github.io/main/DS%20Project%20Data%20Folder/2011-2020%20Detailed%20by%20States%20and%20Year/DSP_detailed_Texas.json\",\"format\": {\"type\":\"json\"}},\"transform\": [{\"filter\": \"datum.year==yearselected\"}],\"mark\":{\"type\": \"circle\", \"size\": 100}},\n",
      "{\"data\": {\"url\": \"https://raw.githubusercontent.com/ln18323/ln18323.github.io/main/DS%20Project%20Data%20Folder/2011-2020%20Detailed%20by%20States%20and%20Year/DSP_detailed_Utah.json\",\"format\": {\"type\":\"json\"}},\"transform\": [{\"filter\": \"datum.year==yearselected\"}],\"mark\":{\"type\": \"circle\", \"size\": 100}},\n",
      "{\"data\": {\"url\": \"https://raw.githubusercontent.com/ln18323/ln18323.github.io/main/DS%20Project%20Data%20Folder/2011-2020%20Detailed%20by%20States%20and%20Year/DSP_detailed_Vermont.json\",\"format\": {\"type\":\"json\"}},\"transform\": [{\"filter\": \"datum.year==yearselected\"}],\"mark\":{\"type\": \"circle\", \"size\": 100}},\n",
      "{\"data\": {\"url\": \"https://raw.githubusercontent.com/ln18323/ln18323.github.io/main/DS%20Project%20Data%20Folder/2011-2020%20Detailed%20by%20States%20and%20Year/DSP_detailed_Virginia.json\",\"format\": {\"type\":\"json\"}},\"transform\": [{\"filter\": \"datum.year==yearselected\"}],\"mark\":{\"type\": \"circle\", \"size\": 100}},\n",
      "{\"data\": {\"url\": \"https://raw.githubusercontent.com/ln18323/ln18323.github.io/main/DS%20Project%20Data%20Folder/2011-2020%20Detailed%20by%20States%20and%20Year/DSP_detailed_Washington.json\",\"format\": {\"type\":\"json\"}},\"transform\": [{\"filter\": \"datum.year==yearselected\"}],\"mark\":{\"type\": \"circle\", \"size\": 100}},\n",
      "{\"data\": {\"url\": \"https://raw.githubusercontent.com/ln18323/ln18323.github.io/main/DS%20Project%20Data%20Folder/2011-2020%20Detailed%20by%20States%20and%20Year/DSP_detailed_West Virginia.json\",\"format\": {\"type\":\"json\"}},\"transform\": [{\"filter\": \"datum.year==yearselected\"}],\"mark\":{\"type\": \"circle\", \"size\": 100}},\n",
      "{\"data\": {\"url\": \"https://raw.githubusercontent.com/ln18323/ln18323.github.io/main/DS%20Project%20Data%20Folder/2011-2020%20Detailed%20by%20States%20and%20Year/DSP_detailed_Wisconsin.json\",\"format\": {\"type\":\"json\"}},\"transform\": [{\"filter\": \"datum.year==yearselected\"}],\"mark\":{\"type\": \"circle\", \"size\": 100}},\n",
      "{\"data\": {\"url\": \"https://raw.githubusercontent.com/ln18323/ln18323.github.io/main/DS%20Project%20Data%20Folder/2011-2020%20Detailed%20by%20States%20and%20Year/DSP_detailed_Wyoming.json\",\"format\": {\"type\":\"json\"}},\"transform\": [{\"filter\": \"datum.year==yearselected\"}],\"mark\":{\"type\": \"circle\", \"size\": 100}},\n"
     ]
    }
   ],
   "source": [
    "import json\n",
    "import matplotlib as pyplot\n",
    "import datetime as datetime\n",
    "import requests\n",
    "import pandas as pd\n",
    "import numpy as np\n",
    "\n",
    "first_chart_url_base1 = '{\"data\": {\"url\": \"https://raw.githubusercontent.com/ln18323/ln18323.github.io/main/DS%20Project%20Data%20Folder/2011-2020%20Detailed%20by%20States%20and%20Year/DSP_detailed_'\n",
    "first_chart_url_base2 = '{}'\n",
    "first_chart_url_base3 = '.json\",\"format\": {\"type\":\"json\"}},\"transform\": [{\"filter\": \"datum.year==yearselected\"}],\"mark\":{\"type\": \"circle\", \"size\": 100}},'\n",
    "\n",
    "url_combined_base = \"https://raw.githubusercontent.com/ln18323/ln18323.github.io/main/DS%20Project%20Data%20Folder/2011-2020%20Combined%20by%20Year/DSP_combined_{}.json\"\n",
    "year_list = range(0, 10)\n",
    "url_combined = url_combined_base.format(2011)\n",
    "data = requests.get(url_combined).json()\n",
    "name_list = []\n",
    "for i in range(0, len(data)):\n",
    "    name_list.append(data[i]['name'])\n",
    "for n in name_list:\n",
    "    first_chart_url_base = first_chart_url_base2.format(n)\n",
    "    first_chart_url = first_chart_url_base1 + first_chart_url_base + first_chart_url_base3 \n",
    "    print(first_chart_url)"
   ]
  }
 ],
 "metadata": {
  "interpreter": {
   "hash": "2e2358648247a208406dbfa15e25e1eb9ab71b3191a74c86c0225594fabd4db2"
  },
  "kernelspec": {
   "display_name": "Python 3.8.8 64-bit ('base': conda)",
   "name": "python3"
  },
  "language_info": {
   "codemirror_mode": {
    "name": "ipython",
    "version": 3
   },
   "file_extension": ".py",
   "mimetype": "text/x-python",
   "name": "python",
   "nbconvert_exporter": "python",
   "pygments_lexer": "ipython3",
   "version": "3.8.8"
  },
  "orig_nbformat": 4
 },
 "nbformat": 4,
 "nbformat_minor": 2
}
